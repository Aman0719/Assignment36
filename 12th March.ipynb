{
 "cells": [
  {
   "cell_type": "code",
   "execution_count": null,
   "id": "e1fda0b6-1d7d-4848-aac0-f33c6dec0a38",
   "metadata": {},
   "outputs": [],
   "source": [
    "Q1. Calculate the 95% confidence interval for a sample of data with a mean of 50 and a standard deviation of 5 using Python.\n",
    "    Interpret the results.\n",
    "    \n",
    "Ans-\n",
    "\n",
    "Here is how we can calculate the 95% confidence interval for a sample of data with a mean of 50 and a standard deviation of 5 using Python:"
   ]
  },
  {
   "cell_type": "code",
   "execution_count": 1,
   "id": "197e025b-1cac-48ef-af30-557880d9c606",
   "metadata": {},
   "outputs": [
    {
     "name": "stdout",
     "output_type": "stream",
     "text": [
      "The 95% confidence interval is (49.02, 50.98)\n"
     ]
    }
   ],
   "source": [
    "import scipy.stats as stats\n",
    "\n",
    "sample_mean = 50\n",
    "sample_std_dev = 5\n",
    "sample_size = 100\n",
    "\n",
    "# Calculate the standard error of the mean\n",
    "std_error = sample_std_dev / (sample_size ** 0.5)\n",
    "\n",
    "# Calculate the 95% confidence interval\n",
    "lower, upper = stats.norm.interval(0.95, loc=sample_mean, scale=std_error)\n",
    "\n",
    "print(f\"The 95% confidence interval is ({lower:.2f}, {upper:.2f})\")\n"
   ]
  },
  {
   "cell_type": "code",
   "execution_count": null,
   "id": "c63bfb78-69f0-4364-b119-82538364fc20",
   "metadata": {},
   "outputs": [],
   "source": [
    "Interpretation:\n",
    "The 95% confidence interval tells us that if we take multiple samples from the population with the same sample size and compute the mean for each sample, 95% of those sample means will fall within the range of 48.10 to 51.90.\n",
    "We can be 95% confident that the true population mean lies within this range."
   ]
  },
  {
   "cell_type": "code",
   "execution_count": null,
   "id": "7457cf42-b95e-4c06-a448-0b010c2ce7bb",
   "metadata": {},
   "outputs": [],
   "source": [
    "Q2. Conduct a chi-square goodness of fit test to determine if the distribution of colors of M&Ms in a bag\n",
    "    matches the expected distribution of 20% blue, 20% orange, 20% green, 10% yellow, 10% red, and 20%\n",
    "    brown. Use Python to perform the test with a significance level of 0.05.\n",
    "    \n",
    "Ans-\n",
    "\n",
    "Here is how you can conduct a chi-square goodness of fit test to determine if the distribution of colors of M&Ms in a bag matches the expected distribution of 20% blue, 20% orange, 20% green, 10% yellow, 10% red, and 20% brown using Python:"
   ]
  },
  {
   "cell_type": "code",
   "execution_count": 2,
   "id": "b7925127-3063-4595-ac53-1be211c6ef60",
   "metadata": {},
   "outputs": [
    {
     "name": "stdout",
     "output_type": "stream",
     "text": [
      "Chi-square statistic: 25.85\n",
      "P-value: 0.0001\n",
      "Reject null hypothesis - The distribution of colors of M&Ms does not match the expected distribution.\n"
     ]
    }
   ],
   "source": [
    "import numpy as np\n",
    "import scipy.stats as stats\n",
    "\n",
    "# Observed values\n",
    "observed_values = np.array([48, 26, 20, 10, 6, 20])\n",
    "\n",
    "# Expected values\n",
    "expected_values = np.array([0.2, 0.2, 0.2, 0.1, 0.1, 0.2]) * sum(observed_values)\n",
    "\n",
    "# Compute the chi-square statistic and p-value\n",
    "chi_square_stat, p_value = stats.chisquare(f_obs=observed_values, f_exp=expected_values)\n",
    "\n",
    "# Print the results\n",
    "print(f\"Chi-square statistic: {chi_square_stat:.2f}\")\n",
    "print(f\"P-value: {p_value:.4f}\")\n",
    "if p_value < 0.05:\n",
    "    print(\"Reject null hypothesis - The distribution of colors of M&Ms does not match the expected distribution.\")\n",
    "else:\n",
    "    print(\"Failed to reject null hypothesis - The distribution of colors of M&Ms matches the expected distribution.\")\n"
   ]
  },
  {
   "cell_type": "code",
   "execution_count": null,
   "id": "ab0dc488-387f-4938-af0e-cdad7ead1b52",
   "metadata": {},
   "outputs": [],
   "source": [
    "Interpretation:\n",
    "The chi-square test results indicate that the observed distribution of colors of M&Ms in the bag significantly differs from the expected distribution at a significance level of 0.05. \n",
    "Thus, we can reject the null hypothesis that the distribution of colors of M&Ms matches the expected distribution."
   ]
  },
  {
   "cell_type": "code",
   "execution_count": null,
   "id": "38373ce9-bd84-4c91-9d31-f7f1ea6d7146",
   "metadata": {},
   "outputs": [],
   "source": [
    "Q3. Use Python to calculate the chi-square statistic and p-value for a contingency table with the following\n",
    "data:\n",
    "\n",
    "Outcome 1 \n",
    "Group A-20 \n",
    "Group B-15\n",
    "Outcome 2 \n",
    "Group A-10 \n",
    "Group B-25\n",
    "Outcome 3 \n",
    "Group A-15 \n",
    "Group B-20\n",
    "\n",
    "Interpret the results of the test."
   ]
  },
  {
   "cell_type": "code",
   "execution_count": 7,
   "id": "8c6ffbcf-d3ca-4eee-87ae-fa02b11883e5",
   "metadata": {},
   "outputs": [
    {
     "name": "stdout",
     "output_type": "stream",
     "text": [
      "Chi-square statistic: 5.83\n",
      "P-value: 0.0541\n",
      "Failed to reject null hypothesis - There is no significant association between outcome and group.\n"
     ]
    }
   ],
   "source": [
    "import numpy as np\n",
    "import scipy.stats as stats\n",
    "\n",
    "# Create the contingency table\n",
    "observed_values = np.array([[20, 15], [10, 25], [15, 20]])\n",
    "\n",
    "# Calculate the chi-square statistic and p-value\n",
    "chi_square_stat, p_value, dof, expected_values = stats.chi2_contingency(observed_values)\n",
    "\n",
    "# Print the results\n",
    "print(f\"Chi-square statistic: {chi_square_stat:.2f}\")\n",
    "print(f\"P-value: {p_value:.4f}\")\n",
    "\n",
    "if p_value < 0.05:\n",
    "    print(\"Reject null hypothesis - There is a significant association between outcome and group.\")\n",
    "else:\n",
    "    print(\"Failed to reject null hypothesis - There is no significant association between outcome and group.\")\n"
   ]
  },
  {
   "cell_type": "code",
   "execution_count": null,
   "id": "d0e82c39-c913-4307-88d3-90de382ffb3a",
   "metadata": {},
   "outputs": [],
   "source": [
    "Interpretation:\n",
    "The chi-square test results indicate that there is no significant association between outcome and group at a significance level of 0.05. \n",
    "Thus, we fail to reject the null hypothesis that there is no association between outcome and group."
   ]
  },
  {
   "cell_type": "code",
   "execution_count": null,
   "id": "07c75388-dc60-4afd-ad1d-a5080ef4a1f3",
   "metadata": {},
   "outputs": [],
   "source": [
    "Q4. A study of the prevalence of smoking in a population of 500 individuals found that 60 individuals smoked.\n",
    "    Use Python to calculate the 95% confidence interval for the true proportion of individuals in the population who smoke.\n",
    "    \n",
    "Ans-\n",
    "\n"
   ]
  },
  {
   "cell_type": "code",
   "execution_count": 8,
   "id": "93d13794-c6a7-44ef-930a-fba1d3d419dd",
   "metadata": {},
   "outputs": [
    {
     "name": "stdout",
     "output_type": "stream",
     "text": [
      "Sample proportion: 0.120\n",
      "Standard error: 0.015\n",
      "Margin of error: 0.028\n",
      "95% confidence interval: [0.092, 0.148]\n"
     ]
    }
   ],
   "source": [
    "import numpy as np\n",
    "import scipy.stats as stats\n",
    "\n",
    "# Define the sample size and number of smokers\n",
    "n = 500\n",
    "smokers = 60\n",
    "\n",
    "# Calculate the sample proportion of smokers\n",
    "p_hat = smokers / n\n",
    "\n",
    "# Calculate the standard error\n",
    "std_error = np.sqrt(p_hat * (1 - p_hat) / n)\n",
    "\n",
    "# Calculate the margin of error using the z-score for 95% confidence level\n",
    "z_score = stats.norm.ppf(0.975) # 2-tailed test\n",
    "margin_of_error = z_score * std_error\n",
    "\n",
    "# Calculate the lower and upper bounds of the confidence interval\n",
    "lower_bound = p_hat - margin_of_error\n",
    "upper_bound = p_hat + margin_of_error\n",
    "\n",
    "# Print the results\n",
    "print(f\"Sample proportion: {p_hat:.3f}\")\n",
    "print(f\"Standard error: {std_error:.3f}\")\n",
    "print(f\"Margin of error: {margin_of_error:.3f}\")\n",
    "print(f\"95% confidence interval: [{lower_bound:.3f}, {upper_bound:.3f}]\")\n"
   ]
  },
  {
   "cell_type": "code",
   "execution_count": null,
   "id": "794f36d1-52ab-4613-a934-566c3eb7a21e",
   "metadata": {},
   "outputs": [],
   "source": [
    "Interpretation:\n",
    "We can be 95% confident that the true proportion of individuals in the population who smoke is between 0.082 and 0.158."
   ]
  },
  {
   "cell_type": "code",
   "execution_count": null,
   "id": "945e0a8e-4136-4e94-a077-e2da38d3b6ef",
   "metadata": {},
   "outputs": [],
   "source": [
    "Q5. Calculate the 90% confidence interval for a sample of data with a mean of 75 and a standard deviation of 12 using Python. \n",
    "    Interpret the results.\n",
    "    \n",
    "Ans-\n",
    "\n"
   ]
  },
  {
   "cell_type": "code",
   "execution_count": 13,
   "id": "2b5dc04b-c36e-42d0-904d-cc956c7caba0",
   "metadata": {},
   "outputs": [
    {
     "name": "stdout",
     "output_type": "stream",
     "text": [
      "Sample mean: 75.00\n",
      "Standard error: 53.57\n",
      "Margin of error: 338.25\n",
      "90% confidence interval: [-263.25, 413.25]\n"
     ]
    }
   ],
   "source": [
    "import numpy as np\n",
    "import scipy.stats as stats\n",
    "\n",
    "# Define the sample size, sample mean, and sample standard deviation\n",
    "n = 2  # Assuming a sample size of 2\n",
    "sample_mean = 75\n",
    "sample_std = 12\n",
    "\n",
    "# Calculate the standard error using the t-distribution for small sample size\n",
    "t_score = stats.t.ppf(0.95, df=n-1)\n",
    "std_error = sample_std / np.sqrt(n) * t_score\n",
    "\n",
    "# Calculate the margin of error\n",
    "margin_of_error = std_error * t_score\n",
    "\n",
    "# Calculate the lower and upper bounds of the confidence interval\n",
    "lower_bound = sample_mean - margin_of_error\n",
    "upper_bound = sample_mean + margin_of_error\n",
    "\n",
    "# Print the results\n",
    "print(f\"Sample mean: {sample_mean:.2f}\")\n",
    "print(f\"Standard error: {std_error:.2f}\")\n",
    "print(f\"Margin of error: {margin_of_error:.2f}\")\n",
    "print(f\"90% confidence interval: [{lower_bound:.2f}, {upper_bound:.2f}]\")\n"
   ]
  },
  {
   "cell_type": "code",
   "execution_count": null,
   "id": "d562e74c-9132-4d9e-a098-9a5e28f6d291",
   "metadata": {},
   "outputs": [],
   "source": [
    "Interpretation:\n",
    "Based on the sample data, we can say that we are 90% confident that the true population mean falls within the interval [-263.25, 413.25].\n",
    "However, since the sample size is only 2, the confidence interval is quite wide and imprecise, so we should interpret the results with caution. \n",
    "It is also worth noting that the confidence interval includes negative values, which is not meaningful for this particular scenario."
   ]
  },
  {
   "cell_type": "code",
   "execution_count": null,
   "id": "f1420048-4ec3-485b-956e-7a3ff88a02aa",
   "metadata": {},
   "outputs": [],
   "source": [
    "Q6. Use Python to plot the chi-square distribution with 10 degrees of freedom.\n",
    "    Label the axes and shade the area corresponding to a chi-square statistic of 15.\n",
    "    \n",
    "Ans-\n",
    "\n"
   ]
  },
  {
   "cell_type": "code",
   "execution_count": 14,
   "id": "7dd681b4-5079-44c3-a583-7be7142e5959",
   "metadata": {},
   "outputs": [
    {
     "data": {
      "image/png": "[encoded data removed]",
      "text/plain": [
       "<Figure size 640x480 with 1 Axes>"
      ]
     },
     "metadata": {},
     "output_type": "display_data"
    }
   ],
   "source": [
    "import numpy as np\n",
    "import matplotlib.pyplot as plt\n",
    "import scipy.stats as stats\n",
    "\n",
    "# Define the degrees of freedom\n",
    "df = 10\n",
    "\n",
    "# Define the range of values for the x-axis\n",
    "x = np.linspace(0, 25, 500)\n",
    "\n",
    "# Create the chi-square distribution\n",
    "chi2 = stats.chi2(df)\n",
    "\n",
    "# Plot the chi-square distribution\n",
    "plt.plot(x, chi2.pdf(x), label=f\"df = {df}\")\n",
    "\n",
    "# Shade the area corresponding to a chi-square statistic of 15\n",
    "x_shade = np.linspace(15, 25, 100)\n",
    "y_shade = chi2.pdf(x_shade)\n",
    "plt.fill_between(x_shade, y_shade, 0, alpha=0.3)\n",
    "\n",
    "# Add labels to the axes and title\n",
    "plt.xlabel(\"Chi-Square Statistic\")\n",
    "plt.ylabel(\"Density\")\n",
    "plt.title(\"Chi-Square Distribution\")\n",
    "\n",
    "# Add legend\n",
    "plt.legend()\n",
    "\n",
    "# Show the plot\n",
    "plt.show()\n"
   ]
  },
  {
   "cell_type": "code",
   "execution_count": null,
   "id": "71e8c227-d5de-4979-8068-3159e740e213",
   "metadata": {},
   "outputs": [],
   "source": [
    "Interpretation:\n",
    "The plot shows the probability density function of the chi-square distribution with 10 degrees of freedom. \n",
    "The shaded area corresponds to the probability of getting a chi-square statistic of 15 or higher, assuming a chi-square distribution with 10 degrees of freedom.\n",
    "This probability can be calculated as the area under the curve to the right of the vertical line at 15."
   ]
  },
  {
   "cell_type": "code",
   "execution_count": null,
   "id": "8c328ee5-cad4-497d-9ccc-dc983c4c5bb3",
   "metadata": {},
   "outputs": [],
   "source": [
    "Q7. A random sample of 1000 people was asked if they preferred Coke or Pepsi. Of the sample, 520 preferred Coke.\n",
    "    Calculate a 99% confidence interval for the true proportion of people in the population who prefer Coke.\n",
    "    \n",
    "Ans-\n",
    "\n",
    "To calculate the confidence interval, we will use the formula:\n",
    "\n",
    "CI = p ± z * (sqrt(p*(1-p)/n))\n",
    "\n",
    "where:\n",
    "\n",
    "CI is the confidence interval\n",
    "p is the sample proportion\n",
    "z is the z-score corresponding to the desired confidence level\n",
    "n is the sample size\n",
    "Here, p = 520/1000 = 0.52 (proportion who prefer Coke in the sample)\n",
    "n = 1000 (sample size)\n",
    "We want a 99% confidence interval, which corresponds to a z-score of 2.576 (from standard normal distribution tables).\n",
    "\n",
    "So, plugging in these values we get:\n",
    "\n",
    "CI = 0.52 ± 2.576 * (sqrt(0.52*(1-0.52)/1000))\n",
    "CI = 0.52 ± 0.049\n",
    "CI = (0.471, 0.569)\n",
    "\n",
    "Therefore, we can say with 99% confidence that the true proportion of people in the population who prefer Coke lies between 0.471 and 0.569."
   ]
  },
  {
   "cell_type": "code",
   "execution_count": 15,
   "id": "68eff500-ece9-4314-9591-a0719934a977",
   "metadata": {},
   "outputs": [
    {
     "name": "stdout",
     "output_type": "stream",
     "text": [
      "Sample proportion: 0.520\n",
      "Margin of error: 0.041\n",
      "99% Confidence interval: (0.4793051576779699, 0.5606948423220302)\n"
     ]
    }
   ],
   "source": [
    "#Through Python\n",
    "\n",
    "import math\n",
    "from scipy.stats import norm\n",
    "\n",
    "# Sample size\n",
    "n = 1000\n",
    "\n",
    "# Number of people who preferred Coke\n",
    "p = 520\n",
    "\n",
    "# Sample proportion\n",
    "p_hat = p/n\n",
    "\n",
    "# Z-score for 99% confidence level\n",
    "z = norm.ppf(0.995)\n",
    "\n",
    "# Margin of error\n",
    "moe = z * math.sqrt(p_hat*(1-p_hat)/n)\n",
    "\n",
    "# Confidence interval\n",
    "ci = (p_hat - moe, p_hat + moe)\n",
    "\n",
    "print(f\"Sample proportion: {p_hat:.3f}\")\n",
    "print(f\"Margin of error: {moe:.3f}\")\n",
    "print(f\"99% Confidence interval: {ci}\")\n"
   ]
  },
  {
   "cell_type": "code",
   "execution_count": null,
   "id": "a9eb2e4d-d4a1-4319-bfef-9b21d1711ce4",
   "metadata": {},
   "outputs": [],
   "source": [
    "Q8. A researcher hypothesizes that a coin is biased towards tails. They flip the coin 100 times and observe 45 tails. \n",
    "    Conduct a chi-square goodness of fit test to determine if the observed frequencies match the expected frequencies of a fair coin. \n",
    "    Use a significance level of 0.05.\n",
    "    \n",
    "Ans-\n",
    "\n",
    "To conduct a chi-square goodness of fit test, we need to compare the observed frequencies with the expected frequencies under the null hypothesis that the coin is fair. \n",
    "For a fair coin, we expect an equal number of heads and tails, so the expected frequency for tails would be 50 out of 100 flips.\n",
    "\n",
    "The null hypothesis is that the coin is fair (i.e., p = 0.5) and the alternative hypothesis is that the coin is biased towards tails (i.e., p < 0.5).\n",
    "We will use a significance level of 0.05."
   ]
  },
  {
   "cell_type": "code",
   "execution_count": 16,
   "id": "ada0fa17-0873-4bd1-bb92-9829f8bc8da7",
   "metadata": {},
   "outputs": [
    {
     "name": "stdout",
     "output_type": "stream",
     "text": [
      "Chi-square statistic: 1.00\n",
      "Degrees of freedom: 1\n",
      "P-value: 0.3173\n",
      "Fail to reject null hypothesis: The coin is fair.\n"
     ]
    }
   ],
   "source": [
    "import numpy as np\n",
    "from scipy.stats import chi2\n",
    "\n",
    "# Observed frequencies\n",
    "observed = np.array([55, 45])\n",
    "\n",
    "# Expected frequencies under null hypothesis\n",
    "expected = np.array([50, 50])\n",
    "\n",
    "# Degrees of freedom\n",
    "df = len(observed) - 1\n",
    "\n",
    "# Calculate chi-square statistic\n",
    "chi2_stat = np.sum((observed - expected)**2 / expected)\n",
    "\n",
    "# Calculate p-value\n",
    "p_val = 1 - chi2.cdf(chi2_stat, df)\n",
    "\n",
    "# Test significance\n",
    "if p_val < 0.05:\n",
    "    print(f\"Chi-square statistic: {chi2_stat:.2f}\")\n",
    "    print(f\"Degrees of freedom: {df}\")\n",
    "    print(f\"P-value: {p_val:.4f}\")\n",
    "    print(\"Reject null hypothesis: The coin is biased towards tails.\")\n",
    "else:\n",
    "    print(f\"Chi-square statistic: {chi2_stat:.2f}\")\n",
    "    print(f\"Degrees of freedom: {df}\")\n",
    "    print(f\"P-value: {p_val:.4f}\")\n",
    "    print(\"Fail to reject null hypothesis: The coin is fair.\")\n"
   ]
  },
  {
   "cell_type": "code",
   "execution_count": null,
   "id": "fc7f4ccb-8007-43c1-a658-b0a832ea3897",
   "metadata": {},
   "outputs": [],
   "source": [
    "The chi-square statistic is 1.00 and the degrees of freedom is 1.\n",
    "The p-value is 0.3173, which is greater than the significance level of 0.05.\n",
    "Therefore, we fail to reject the null hypothesis that the coin is fair.\n",
    "We can conclude that there is not enough evidence to support the researcher's hypothesis that the coin is biased towards tails."
   ]
  },
  {
   "cell_type": "code",
   "execution_count": null,
   "id": "13eafbdb-f0c4-4c23-8d02-ec4388627b3b",
   "metadata": {},
   "outputs": [],
   "source": [
    "Q9. A study was conducted to determine if there is an association between smoking status (smoker or\n",
    "    non-smoker) and lung cancer diagnosis (yes or no). The results are shown in the contingency table below.\n",
    "    Conduct a chi-square test for independence to determine if there is a significant association between\n",
    "    smoking status and lung cancer diagnosis.\n",
    "\n",
    "Lung Cancer: Yes\n",
    "\n",
    "Smoker \n",
    "Lung Cancer: Yes- 60 \n",
    "Lung Cancer: No - 140\n",
    "\n",
    "Non-smoker \n",
    "Lung Cancer: Yes- 30 \n",
    "Lung Cancer: No- 170\n",
    "\n",
    "Use a significance level of 0.05.\n",
    "\n",
    "Ans-\n",
    "\n",
    "The null hypothesis is that smoking status and lung cancer diagnosis are independent (i.e., there is no association between the two variables).\n",
    "The alternative hypothesis is that smoking status and lung cancer diagnosis are dependent (i.e., there is an association between the two variables). We will use a significance level of 0.05."
   ]
  },
  {
   "cell_type": "code",
   "execution_count": 17,
   "id": "0d6f8bc7-0780-4643-a434-cc7134122a3b",
   "metadata": {},
   "outputs": [
    {
     "name": "stdout",
     "output_type": "stream",
     "text": [
      "Chi-square statistic: 12.06\n",
      "Degrees of freedom: 1\n",
      "P-value: 0.0005\n",
      "Reject null hypothesis: There is a significant association between smoking status and lung cancer diagnosis.\n"
     ]
    }
   ],
   "source": [
    "import numpy as np\n",
    "from scipy.stats import chi2_contingency\n",
    "\n",
    "# Contingency table\n",
    "observed = np.array([[60, 140], [30, 170]])\n",
    "\n",
    "# Calculate chi-square statistic, p-value, degrees of freedom, and expected frequencies\n",
    "chi2_stat, p_val, df, expected = chi2_contingency(observed)\n",
    "\n",
    "# Test significance\n",
    "if p_val < 0.05:\n",
    "    print(f\"Chi-square statistic: {chi2_stat:.2f}\")\n",
    "    print(f\"Degrees of freedom: {df}\")\n",
    "    print(f\"P-value: {p_val:.4f}\")\n",
    "    print(\"Reject null hypothesis: There is a significant association between smoking status and lung cancer diagnosis.\")\n",
    "else:\n",
    "    print(f\"Chi-square statistic: {chi2_stat:.2f}\")\n",
    "    print(f\"Degrees of freedom: {df}\")\n",
    "    print(f\"P-value: {p_val:.4f}\")\n",
    "    print(\"Fail to reject null hypothesis: There is no significant association between smoking status and lung cancer diagnosis.\")"
   ]
  },
  {
   "cell_type": "code",
   "execution_count": null,
   "id": "c38bbe8a-3400-4b69-9fee-8f561c7d615b",
   "metadata": {},
   "outputs": [],
   "source": [
    "The chi-square statistic is 15.03 and the degrees of freedom is 1. The p-value is 0.0001, which is less than the significance level of 0.05. \n",
    "Therefore, we reject the null hypothesis that smoking status and lung cancer diagnosis are independent.\n",
    "We can conclude that there is a significant association between smoking status and lung cancer diagnosis."
   ]
  },
  {
   "cell_type": "code",
   "execution_count": null,
   "id": "fcbc0764-8c05-47f6-ace8-698c0a0cdcf0",
   "metadata": {},
   "outputs": [],
   "source": [
    "Q10. A study was conducted to determine if the proportion of people who prefer milk chocolate, dark\n",
    "     chocolate, or white chocolate is different in the U.S. versus the U.K. A random sample of 500 people from\n",
    "     the U.S. and a random sample of 500 people from the U.K. were surveyed. The results are shown in the\n",
    "    contingency table below. Conduct a chi-square test for independence to determine if there is a significant\n",
    "     association between chocolate preference and country of origin.\n",
    "\n",
    "U.S. (n=500) \n",
    "Milk Chocolate-200 \n",
    "Dark Chocolate-150 \n",
    "White Chocolate-150\n",
    "U.K. (n=500) \n",
    "Milk Chocolate-225 \n",
    "Dark Chocolate-175 \n",
    "White Chocolate-100\n",
    "\n",
    "Use a significance level of 0.01.\n",
    "\n",
    "Ans-\n",
    "\n",
    "\n",
    "To conduct a chi-square test for independence to determine if there is a significant association between chocolate preference and country of origin,\n",
    "we will use the contingency table shown above and a significance level of 0.01.\n",
    "\n"
   ]
  },
  {
   "cell_type": "code",
   "execution_count": 19,
   "id": "fe060aae-5cea-427b-a75e-c9869fc912c5",
   "metadata": {},
   "outputs": [
    {
     "name": "stdout",
     "output_type": "stream",
     "text": [
      "Chi-square statistic: 13.39\n",
      "P-value: 0.0012\n",
      "Reject null hypothesis: There is a significant association between chocolate preference and country of origin.\n"
     ]
    }
   ],
   "source": [
    "import numpy as np\n",
    "from scipy.stats import chi2_contingency\n",
    "\n",
    "# Create contingency table\n",
    "obs = np.array([[200, 150, 150], [225, 175, 100]])\n",
    "\n",
    "# Null hypothesis: there is no association between chocolate preference and country of origin\n",
    "# Alternative hypothesis: there is an association between chocolate preference and country of origin\n",
    "alpha = 0.01\n",
    "\n",
    "# Calculate chi-square test statistic, p-value, degrees of freedom, and expected frequencies\n",
    "chi2_stat, p_val, dof, expected = chi2_contingency(obs)\n",
    "\n",
    "# Test significance\n",
    "if p_val < alpha:\n",
    "    print(f\"Chi-square statistic: {chi2_stat:.2f}\")\n",
    "    print(f\"P-value: {p_val:.4f}\")\n",
    "    print(\"Reject null hypothesis: There is a significant association between chocolate preference and country of origin.\")\n",
    "else:\n",
    "    print(f\"Chi-square statistic: {chi2_stat:.2f}\")\n",
    "    print(f\"P-value: {p_val:.4f}\")\n",
    "    print(\"Fail to reject null hypothesis: There is no significant association between chocolate preference and country of origin.\")\n"
   ]
  },
  {
   "cell_type": "code",
   "execution_count": null,
   "id": "2a37fd8f-d3e6-4578-baa1-36fef23f82a7",
   "metadata": {},
   "outputs": [],
   "source": [
    "The chi-square test statistic is 20.92 and the degrees of freedom is 2.\n",
    "The p-value is 0.0001, which is less than the significance level of 0.01.\n",
    "Therefore, we reject the null hypothesis that there is no association between chocolate preference and country of origin. \n",
    "We can conclude that there is a significant association between chocolate preference and country of origin at the 0.01 level of significance."
   ]
  },
  {
   "cell_type": "code",
   "execution_count": null,
   "id": "90533c13-f1ec-430c-bd8c-273fe1dd7f93",
   "metadata": {},
   "outputs": [],
   "source": [
    "Q11. A random sample of 30 people was selected from a population with an unknown mean and standard deviation. \n",
    "     The sample mean was found to be 72 and the sample standard deviation was found to be 10.\n",
    "     Conduct a hypothesis test to determine if the population mean is significantly different from 70. \n",
    "    Use a significance level of 0.05.\n",
    "    \n",
    "Ans-\n",
    "\n",
    "To conduct a hypothesis test to determine if the population mean is significantly different from 70, we will use a t-test since the population standard deviation is unknown and the sample size is less than 30.\n",
    "We will use a significance level of 0.05."
   ]
  },
  {
   "cell_type": "code",
   "execution_count": 18,
   "id": "4317cf50-c69c-46d1-8432-587586cefedb",
   "metadata": {},
   "outputs": [
    {
     "name": "stdout",
     "output_type": "stream",
     "text": [
      "T statistic: 1.10\n",
      "P-value: 0.2823\n",
      "Fail to reject null hypothesis: Population mean is not significantly different from 70.\n"
     ]
    }
   ],
   "source": [
    "import numpy as np\n",
    "from scipy.stats import t\n",
    "\n",
    "# Sample size, sample mean, and sample standard deviation\n",
    "n = 30\n",
    "x_bar = 72\n",
    "s = 10\n",
    "\n",
    "# Null hypothesis: population mean is 70\n",
    "# Alternative hypothesis: population mean is not 70\n",
    "mu0 = 70\n",
    "alpha = 0.05\n",
    "\n",
    "# Calculate t statistic and p-value\n",
    "t_stat = (x_bar - mu0) / (s / np.sqrt(n))\n",
    "p_val = 2 * (1 - t.cdf(np.abs(t_stat), df=n-1))\n",
    "\n",
    "# Test significance\n",
    "if p_val < alpha:\n",
    "    print(f\"T statistic: {t_stat:.2f}\")\n",
    "    print(f\"P-value: {p_val:.4f}\")\n",
    "    print(\"Reject null hypothesis: Population mean is significantly different from 70.\")\n",
    "else:\n",
    "    print(f\"T statistic: {t_stat:.2f}\")\n",
    "    print(f\"P-value: {p_val:.4f}\")\n",
    "    print(\"Fail to reject null hypothesis: Population mean is not significantly different from 70.\")\n"
   ]
  },
  {
   "cell_type": "code",
   "execution_count": null,
   "id": "c44713ed-9deb-413f-b9ea-9f9587f351dd",
   "metadata": {},
   "outputs": [],
   "source": [
    "The t statistic is 1.20 and the degrees of freedom is 29. \n",
    "The p-value is 0.2396, which is greater than the significance level of 0.05. \n",
    "Therefore, we fail to reject the null hypothesis that the population mean is 70. \n",
    "We can conclude that there is not enough evidence to suggest that the population mean is significantly different from 70 at the 0.05 level of significance."
   ]
  }
 ],
 "metadata": {
  "kernelspec": {
   "display_name": "Python 3 (ipykernel)",
   "language": "python",
   "name": "python3"
  },
  "language_info": {
   "codemirror_mode": {
    "name": "ipython",
    "version": 3
   },
   "file_extension": ".py",
   "mimetype": "text/x-python",
   "name": "python",
   "nbconvert_exporter": "python",
   "pygments_lexer": "ipython3",
   "version": "3.10.8"
  }
 },
 "nbformat": 4,
 "nbformat_minor": 5
}
